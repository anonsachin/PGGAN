{
 "cells": [
  {
   "cell_type": "code",
   "execution_count": 1,
   "metadata": {},
   "outputs": [],
   "source": [
    "import torch\n",
    "import torch.nn as nn\n",
    "from torchvision import datasets\n",
    "from torchvision import transforms\n",
    "import numpy as np\n",
    "import matplotlib.pyplot as plt\n",
    "import math\n",
    "import torch.optim as optim\n",
    "import numpy as np"
   ]
  },
  {
   "cell_type": "code",
   "execution_count": 2,
   "metadata": {},
   "outputs": [],
   "source": [
    "# def dataExtraction(params):\n",
    "#     transform = transforms.Compose([\n",
    "#     transforms.CenterCrop(160),\n",
    "#     transforms.ToTensor()])\n",
    "#     img = datasets.ImageFolder(root='asl_alphabets/gan_train/',\n",
    "#                                transform=transform)\n",
    "#     dataload = torch.utils.data.DataLoader(img,**params)\n",
    "#     return dataload"
   ]
  },
  {
   "cell_type": "code",
   "execution_count": 3,
   "metadata": {},
   "outputs": [],
   "source": [
    "params = {'batch_size': 16,\n",
    "          'shuffle': False,\n",
    "          'num_workers': 6}\n",
    "transform = transforms.Compose([\n",
    "    transforms.CenterCrop(160),\n",
    "    transforms.ToTensor()])\n",
    "data = datasets.FashionMNIST(root = 'data',train=True,download=True,\n",
    "                                           transform=transforms.ToTensor())\n",
    "loader = torch.utils.data.DataLoader(data,**params)"
   ]
  },
  {
   "cell_type": "code",
   "execution_count": 4,
   "metadata": {},
   "outputs": [
    {
     "data": {
      "text/plain": [
       "<matplotlib.image.AxesImage at 0x7faf7c2d82b0>"
      ]
     },
     "execution_count": 4,
     "metadata": {},
     "output_type": "execute_result"
    },
    {
     "data": {
      "image/png": "[encoded data removed]",
      "text/plain": [
       "<Figure size 216x216 with 1 Axes>"
      ]
     },
     "metadata": {
      "needs_background": "light"
     },
     "output_type": "display_data"
    }
   ],
   "source": [
    "x,_= next(iter(loader))\n",
    "x = x.numpy()\n",
    "img = np.squeeze(x[0])\n",
    "\n",
    "fig = plt.figure(figsize = (3,3)) \n",
    "ax = fig.add_subplot(111)\n",
    "ax.imshow(img, cmap='gray')\n",
    "# plt.imshow(np.transpose(x[0].numpy(), (1, 2, 0)))"
   ]
  },
  {
   "cell_type": "code",
   "execution_count": 5,
   "metadata": {},
   "outputs": [],
   "source": [
    "class pixelNormalization(nn.Module):\n",
    "    def __init__(self):\n",
    "        super(pixelNormalization,self).__init__()\n",
    "        \n",
    "    def forward(self,x):\n",
    "        eps = 1e-10\n",
    "        batch, dim = x.shape[0], x.shape[1]\n",
    "        y,z = x.shape[2] , x.shape[3]\n",
    "        x = x.view(batch,dim,-1)\n",
    "        mean = x.mean(1)\n",
    "        dev = x.var(1)\n",
    "        mean = mean.view(batch,1,-1)\n",
    "        dev = dev.view(batch,1,-1)\n",
    "        x = (x - mean)/(dev.sqrt() + eps)\n",
    "        x = x.view(batch,dim,y,z)\n",
    "        return x"
   ]
  },
  {
   "cell_type": "code",
   "execution_count": 6,
   "metadata": {},
   "outputs": [],
   "source": [
    "def tconv_section(inp,out,*args,**kargs):\n",
    "    return nn.Sequential(\n",
    "        nn.ConvTranspose2d(inp,out,*args,**kargs),\n",
    "#         pixelNormalization(),\n",
    "         nn.BatchNorm2d(out),\n",
    "        nn.LeakyReLU(negative_slope=0.1)\n",
    "    )\n",
    "def tconv_block(a,*args,**kargs):\n",
    "    layers = [tconv_section(i,j,*args,**kargs) for i,j in zip(a,a[1:])]\n",
    "    return nn.Sequential(*layers)"
   ]
  },
  {
   "cell_type": "code",
   "execution_count": 7,
   "metadata": {},
   "outputs": [
    {
     "data": {
      "text/plain": [
       "Sequential(\n",
       "  (0): Sequential(\n",
       "    (0): ConvTranspose2d(1, 16, kernel_size=(3, 3), stride=(1, 1), padding=(1, 1))\n",
       "    (1): BatchNorm2d(16, eps=1e-05, momentum=0.1, affine=True, track_running_stats=True)\n",
       "    (2): LeakyReLU(negative_slope=0.1)\n",
       "  )\n",
       "  (1): Sequential(\n",
       "    (0): ConvTranspose2d(16, 16, kernel_size=(3, 3), stride=(1, 1), padding=(1, 1))\n",
       "    (1): BatchNorm2d(16, eps=1e-05, momentum=0.1, affine=True, track_running_stats=True)\n",
       "    (2): LeakyReLU(negative_slope=0.1)\n",
       "  )\n",
       ")"
      ]
     },
     "execution_count": 7,
     "metadata": {},
     "output_type": "execute_result"
    }
   ],
   "source": [
    "tconv_block([1,16,16], kernel_size=3, padding=1)"
   ]
  },
  {
   "cell_type": "code",
   "execution_count": 8,
   "metadata": {},
   "outputs": [],
   "source": [
    "def to_rgb(in_size,*args,**kargs):\n",
    "    out =1\n",
    "    return nn.Sequential(\n",
    "        nn.ConvTranspose2d(in_size,out,*args,**kargs),\n",
    "#         pixelNormalization(),\n",
    "#          nn.BatchNorm2d(out),\n",
    "        nn.LeakyReLU(negative_slope=0.1)\n",
    "    )"
   ]
  },
  {
   "cell_type": "code",
   "execution_count": 9,
   "metadata": {},
   "outputs": [],
   "source": [
    "# weights\n",
    "def init_weights(x,mean=0,std=1):\n",
    "    i = x.__class__.__name__\n",
    "    if (i == 'Conv2d' or i == 'Linear' or i == 'ConvTranspose2d'):\n",
    "        nn.init.normal_(x.weight.data, mean=mean, std=std)\n",
    "\n",
    "# var = 2/fan_in version of initialization - https://medium.com/@prateekvishnu/xavier-and-he-normal-he-et-al-initialization-8e3d7a087528\n",
    "def he_initialization(x):\n",
    "    i = x.__class__.__name__\n",
    "    if (i == 'Conv2d' or i == 'ConvTranspose2d'):\n",
    "        x.weight*(math.sqrt(2/(x.weight.shape[1]*x.weight.shape[2]*x.weight.shape[3])))\n",
    "    elif (i == 'Linear'):\n",
    "        x.weight*(math.sqrt(2/x.weight.shape[1]))\n",
    "        \n",
    "def scale(x, feature_range=(-1, 1)):\n",
    "    x = x*(feature_range[1] - feature_range[0]) + feature_range[0]\n",
    "    return x"
   ]
  },
  {
   "cell_type": "code",
   "execution_count": 10,
   "metadata": {},
   "outputs": [],
   "source": [
    "class Generator(nn.Module):\n",
    "    def __init__(self,z_size=100):\n",
    "        super(Generator,self).__init__()\n",
    "        self.linear = nn.Sequential(\n",
    "            nn.Linear(z_size,49),\n",
    "            nn.ReLU()\n",
    "        )\n",
    "        self.dict = nn.ModuleDict({\n",
    "            'layer_1': tconv_block([1,16,16], kernel_size=3, padding=1),\n",
    "            'Upsample': nn.Upsample(scale_factor=2, mode='nearest'),\n",
    "            'to_rgb_1': to_rgb(16,kernel_size=3, padding=1)\n",
    "        })\n",
    "    def grow(self,n,args):\n",
    "        self.dict['layer_{}'.format(n)] = tconv_block(args, kernel_size=3, padding=1)\n",
    "        self.dict['to_rgb_{}'.format(n)] = to_rgb(args[-1], kernel_size=3, padding=1)\n",
    "        self.dict['layer_{}'.format(n)].apply(init_weights)\n",
    "        self.dict['to_rgb_{}'.format(n)].apply(init_weights)\n",
    "    \n",
    "    def train_g(self,x,n,aplha):\n",
    "        self.dict.apply(he_initialization)\n",
    "        batch_size = x.shape[0]\n",
    "        x = self.linear(x)\n",
    "        x = x.view(batch_size,1,7,7)\n",
    "        for i in range(n):\n",
    "            if i == 0:\n",
    "                x = self.dict['layer_{}'.format(i+1)](x)\n",
    "#                 x = pixelNormalization(x)\n",
    "                if n == 1:\n",
    "                    x = self.dict['to_rgb_{}'.format(i+1)](x)\n",
    "            elif i+1 == n:\n",
    "                x = self.dict['Upsample'](x)\n",
    "                out = self.dict['layer_{}'.format(i+1)](x)\n",
    "                out = self.dict['to_rgb_{}'.format(i+1)](out)\n",
    "#                 out = pixelNormalization(out)\n",
    "                x = self.dict['to_rgb_{}'.format(i)](x)\n",
    "#                 x = pixelNormalization(x)\n",
    "                x = (1-aplha)*x + aplha*(out)\n",
    "            else:\n",
    "                x = self.dict['Upsample'](x)\n",
    "                x = self.dict['layer_{}'.format(i+1)](x)\n",
    "#                 x = pixelNormalization(x)\n",
    "            x = torch.tanh(x)\n",
    "        return x\n",
    "                \n",
    "    def forward(self,x,n):\n",
    "        batch_size = x.shape[0]\n",
    "        x = self.linear(x)\n",
    "        x = x.view(batch_size,1,7,7)\n",
    "        \n",
    "        for i in range(n):\n",
    "            if i == 0:\n",
    "                x = self.dict['layer_{}'.format(i+1)](x)\n",
    "            else:\n",
    "                x = self.dict['Upsample'](x)\n",
    "                x = self.dict['layer_{}'.format(i+1)](x)\n",
    "                \n",
    "        return x"
   ]
  },
  {
   "cell_type": "code",
   "execution_count": 11,
   "metadata": {},
   "outputs": [],
   "source": [
    "def conv_section(inp,out,*args,**kargs):\n",
    "    return nn.Sequential(\n",
    "        nn.Conv2d(inp,out,*args,**kargs),\n",
    "#         pixelNormalization(),\n",
    "        nn.BatchNorm2d(out),\n",
    "        nn.LeakyReLU(negative_slope=0.1)\n",
    "    )\n",
    "def conv_block(a,*args,**kargs):\n",
    "    layers = [conv_section(i,j,*args,**kargs) for i,j in zip(a,a[1:])]\n",
    "    return nn.Sequential(*layers)\n",
    "\n",
    "def from_rgb(out,*args,**kargs):\n",
    "    in_size = 1\n",
    "    return nn.Sequential(\n",
    "        nn.Conv2d(in_size,out,*args,**kargs),\n",
    "#         pixelNormalization(),\n",
    "        nn.BatchNorm2d(out),\n",
    "        nn.LeakyReLU(negative_slope=0.1)\n",
    "    )"
   ]
  },
  {
   "cell_type": "code",
   "execution_count": 12,
   "metadata": {},
   "outputs": [],
   "source": [
    "class Discriminator(nn.Module):\n",
    "    def __init__(self):\n",
    "        super(Discriminator,self).__init__()\n",
    "        self.down = nn.AvgPool2d(kernel_size=2)\n",
    "        self.dict = nn.ModuleDict({\n",
    "            'layer_1': conv_block([(16+1),16,1], kernel_size=3, padding=1),# account for minbatch stddev\n",
    "            'Upsample': nn.Upsample(scale_factor=2, mode='nearest'),\n",
    "            'from_rgb_1': from_rgb(16,kernel_size=3, padding=1)\n",
    "        })\n",
    "        self.linear = nn.Sequential(\n",
    "            nn.Linear(49,1)\n",
    "#             nn.Linear(10,1)\n",
    "        )\n",
    "#         self.sigmoid = nn.Sigmoid()\n",
    "        \n",
    "    def grow(self,n,args):\n",
    "        rgb = args[0] \n",
    "        self.dict['layer_{}'.format(n)] = conv_block(args, kernel_size=3, padding=1)\n",
    "        self.dict['from_rgb_{}'.format(n)] = from_rgb(rgb, kernel_size=3, padding=1)\n",
    "        self.dict['layer_{}'.format(n)].apply(init_weights)\n",
    "        self.dict['from_rgb_{}'.format(n)].apply(init_weights)\n",
    "        \n",
    "    def train_d(self,x,n,alpha):\n",
    "        x = scale(x)\n",
    "        self.dict.apply(he_initialization)\n",
    "        for i in range(n,0,-1):\n",
    "            if n == 1:\n",
    "                x = self.dict['from_rgb_{}'.format(n)](x)\n",
    "                x = self.min_batch_stddev(x)\n",
    "                x = self.dict['layer_{}'.format(n)](x)\n",
    "            elif i == n:\n",
    "                store = self.dict['from_rgb_{}'.format(n-1)](self.down(x))\n",
    "                x = self.dict['from_rgb_{}'.format(n)](x)\n",
    "                x = self.dict['layer_{}'.format(n)](x)\n",
    "                x = self.down(x)\n",
    "            elif i == n-1:\n",
    "                x = (1-alpha)*x + alpha*(store)\n",
    "                if i == 1:\n",
    "                    x = self.min_batch_stddev(x)\n",
    "                x = self.dict['layer_{}'.format(i)](x)\n",
    "            else:\n",
    "                if i == 1:\n",
    "                    x = self.min_batch_stddev(x)\n",
    "                x = self.dict['layer_{}'.format(i)](x)\n",
    "                x = self.down(x)\n",
    "        \n",
    "        x = x.view(-1,49)\n",
    "        x = self.linear(x)\n",
    "                \n",
    "        return x\n",
    "    \n",
    "    def downSample(self,x,n):\n",
    "        if n < 0:\n",
    "            return x\n",
    "        for i in range(n):\n",
    "            x = self.down(x)\n",
    "            \n",
    "        return x\n",
    "    def min_batch_stddev(self,x):\n",
    "#         min batch standard deviation pixel-wise std\n",
    "        y,z = x.shape[2],x.shape[3]\n",
    "        batch = x.shape[0]\n",
    "        x = x.view(batch,x.shape[1],-1)\n",
    "        dev = x.std(1)\n",
    "        dev = dev.view(batch,1,-1)\n",
    "        x = torch.cat([x,dev],1)\n",
    "        x = x.view(-1,x.shape[1],y,z)\n",
    "        return x\n",
    "                "
   ]
  },
  {
   "cell_type": "code",
   "execution_count": 13,
   "metadata": {},
   "outputs": [
    {
     "data": {
      "text/plain": [
       "Discriminator(\n",
       "  (down): AvgPool2d(kernel_size=2, stride=2, padding=0)\n",
       "  (dict): ModuleDict(\n",
       "    (Upsample): Upsample(scale_factor=2.0, mode=nearest)\n",
       "    (from_rgb_1): Sequential(\n",
       "      (0): Conv2d(1, 16, kernel_size=(3, 3), stride=(1, 1), padding=(1, 1))\n",
       "      (1): BatchNorm2d(16, eps=1e-05, momentum=0.1, affine=True, track_running_stats=True)\n",
       "      (2): LeakyReLU(negative_slope=0.1)\n",
       "    )\n",
       "    (layer_1): Sequential(\n",
       "      (0): Sequential(\n",
       "        (0): Conv2d(17, 16, kernel_size=(3, 3), stride=(1, 1), padding=(1, 1))\n",
       "        (1): BatchNorm2d(16, eps=1e-05, momentum=0.1, affine=True, track_running_stats=True)\n",
       "        (2): LeakyReLU(negative_slope=0.1)\n",
       "      )\n",
       "      (1): Sequential(\n",
       "        (0): Conv2d(16, 1, kernel_size=(3, 3), stride=(1, 1), padding=(1, 1))\n",
       "        (1): BatchNorm2d(1, eps=1e-05, momentum=0.1, affine=True, track_running_stats=True)\n",
       "        (2): LeakyReLU(negative_slope=0.1)\n",
       "      )\n",
       "    )\n",
       "  )\n",
       "  (linear): Sequential(\n",
       "    (0): Linear(in_features=49, out_features=1, bias=True)\n",
       "  )\n",
       ")"
      ]
     },
     "execution_count": 13,
     "metadata": {},
     "output_type": "execute_result"
    }
   ],
   "source": [
    "D = Discriminator()\n",
    "D.apply(init_weights)"
   ]
  },
  {
   "cell_type": "code",
   "execution_count": 14,
   "metadata": {},
   "outputs": [
    {
     "data": {
      "text/plain": [
       "Generator(\n",
       "  (linear): Sequential(\n",
       "    (0): Linear(in_features=100, out_features=49, bias=True)\n",
       "    (1): ReLU()\n",
       "  )\n",
       "  (dict): ModuleDict(\n",
       "    (Upsample): Upsample(scale_factor=2.0, mode=nearest)\n",
       "    (layer_1): Sequential(\n",
       "      (0): Sequential(\n",
       "        (0): ConvTranspose2d(1, 16, kernel_size=(3, 3), stride=(1, 1), padding=(1, 1))\n",
       "        (1): BatchNorm2d(16, eps=1e-05, momentum=0.1, affine=True, track_running_stats=True)\n",
       "        (2): LeakyReLU(negative_slope=0.1)\n",
       "      )\n",
       "      (1): Sequential(\n",
       "        (0): ConvTranspose2d(16, 16, kernel_size=(3, 3), stride=(1, 1), padding=(1, 1))\n",
       "        (1): BatchNorm2d(16, eps=1e-05, momentum=0.1, affine=True, track_running_stats=True)\n",
       "        (2): LeakyReLU(negative_slope=0.1)\n",
       "      )\n",
       "    )\n",
       "    (to_rgb_1): Sequential(\n",
       "      (0): ConvTranspose2d(16, 1, kernel_size=(3, 3), stride=(1, 1), padding=(1, 1))\n",
       "      (1): LeakyReLU(negative_slope=0.1)\n",
       "    )\n",
       "  )\n",
       ")"
      ]
     },
     "execution_count": 14,
     "metadata": {},
     "output_type": "execute_result"
    }
   ],
   "source": [
    "G = Generator()\n",
    "G.apply(init_weights)"
   ]
  },
  {
   "cell_type": "markdown",
   "metadata": {},
   "source": [
    "## loss function"
   ]
  },
  {
   "cell_type": "code",
   "execution_count": 15,
   "metadata": {},
   "outputs": [],
   "source": [
    "# def real_loss(x,smooth=False):\n",
    "#     x = torch.relu(x)\n",
    "#     if smooth == True:\n",
    "#         loss = torch.mean(torch.abs(x - 0.9))\n",
    "#     else:\n",
    "#         loss = torch.mean(torch.abs(x - 1))\n",
    "        \n",
    "#     return loss\n",
    "\n",
    "# def fake_loss(x):\n",
    "#     x = torch.relu(x)\n",
    "#     loss = torch.mean(torch.abs(x - 0.1))\n",
    "#     return loss"
   ]
  },
  {
   "cell_type": "code",
   "execution_count": 16,
   "metadata": {},
   "outputs": [],
   "source": [
    "def real_loss(D_out,smooth = False):\n",
    "    batch_size = D_out.size(0)\n",
    "    if smooth:\n",
    "        labels =torch.ones(batch_size)*0.9\n",
    "    else:\n",
    "        labels = torch.ones(batch_size)\n",
    "        \n",
    "    if torch.cuda.is_available:\n",
    "        labels = labels.cuda()\n",
    "        \n",
    "    crit = nn.BCEWithLogitsLoss()\n",
    "    loss = crit(D_out.squeeze(),labels)\n",
    "    return loss\n",
    "def fake_loss(D_out):\n",
    "    labels = torch.ones(D_out.size(0))*0.1\n",
    "    crit = nn.BCEWithLogitsLoss()\n",
    "    \n",
    "    if torch.cuda.is_available:\n",
    "        labels = labels.cuda()\n",
    "        \n",
    "    loss = crit(D_out.squeeze(),labels)\n",
    "    return loss"
   ]
  },
  {
   "cell_type": "markdown",
   "metadata": {},
   "source": [
    "### Growth dimmensions"
   ]
  },
  {
   "cell_type": "code",
   "execution_count": 17,
   "metadata": {},
   "outputs": [],
   "source": [
    "g_dim = [[16,16,16],[16,16,16]]\n",
    "d_dim = [[16,16,16],[16,16,16]]\n",
    "# down sampling times\n",
    "down_times = [2,1,0]\n",
    "# epochs \n",
    "epochs = [25,25,25]"
   ]
  },
  {
   "cell_type": "code",
   "execution_count": 18,
   "metadata": {},
   "outputs": [
    {
     "name": "stdout",
     "output_type": "stream",
     "text": [
      "Starting the 1 level\n",
      "Epoch/Phase :0/1 : The Discriminator loss = 0.8848 || The Generator loss = 1.7800\n",
      "Epoch/Phase :1/1 : The Discriminator loss = 0.7077 || The Generator loss = 2.0935\n",
      "Epoch/Phase :2/1 : The Discriminator loss = 0.8073 || The Generator loss = 2.1390\n",
      "Epoch/Phase :3/1 : The Discriminator loss = 0.7101 || The Generator loss = 2.8657\n",
      "Epoch/Phase :4/1 : The Discriminator loss = 0.8130 || The Generator loss = 2.1206\n",
      "Epoch/Phase :5/1 : The Discriminator loss = 0.7194 || The Generator loss = 2.4941\n",
      "Epoch/Phase :6/1 : The Discriminator loss = 0.7209 || The Generator loss = 2.5987\n",
      "Epoch/Phase :7/1 : The Discriminator loss = 0.7021 || The Generator loss = 3.2598\n",
      "Epoch/Phase :8/1 : The Discriminator loss = 0.7512 || The Generator loss = 2.1608\n",
      "Epoch/Phase :9/1 : The Discriminator loss = 0.7070 || The Generator loss = 2.4109\n",
      "Epoch/Phase :10/1 : The Discriminator loss = 0.7307 || The Generator loss = 2.0301\n",
      "Epoch/Phase :11/1 : The Discriminator loss = 0.8342 || The Generator loss = 1.8645\n",
      "Epoch/Phase :12/1 : The Discriminator loss = 0.7717 || The Generator loss = 2.0328\n",
      "Epoch/Phase :13/1 : The Discriminator loss = 0.7385 || The Generator loss = 1.6917\n",
      "Epoch/Phase :14/1 : The Discriminator loss = 0.7879 || The Generator loss = 0.9820\n",
      "Epoch/Phase :15/1 : The Discriminator loss = 0.7688 || The Generator loss = 1.4066\n",
      "Epoch/Phase :16/1 : The Discriminator loss = 0.8271 || The Generator loss = 1.8771\n",
      "Epoch/Phase :17/1 : The Discriminator loss = 0.8983 || The Generator loss = 1.7304\n",
      "Epoch/Phase :18/1 : The Discriminator loss = 0.8054 || The Generator loss = 1.1223\n",
      "Epoch/Phase :19/1 : The Discriminator loss = 0.8403 || The Generator loss = 1.6080\n",
      "Epoch/Phase :20/1 : The Discriminator loss = 0.8126 || The Generator loss = 1.7185\n",
      "Epoch/Phase :21/1 : The Discriminator loss = 1.0837 || The Generator loss = 1.5235\n",
      "Epoch/Phase :22/1 : The Discriminator loss = 0.8281 || The Generator loss = 2.7756\n",
      "Epoch/Phase :23/1 : The Discriminator loss = 0.7920 || The Generator loss = 1.6618\n",
      "Epoch/Phase :24/1 : The Discriminator loss = 1.0517 || The Generator loss = 1.3348\n",
      "Starting the 2 level\n",
      "Epoch/Phase :0/2 : The Discriminator loss = 1.0538 || The Generator loss = 1.1423\n",
      "Epoch/Phase :1/2 : The Discriminator loss = 0.8037 || The Generator loss = 1.4664\n",
      "Epoch/Phase :2/2 : The Discriminator loss = 0.7970 || The Generator loss = 2.4105\n",
      "Epoch/Phase :3/2 : The Discriminator loss = 0.9265 || The Generator loss = 2.6397\n",
      "Epoch/Phase :4/2 : The Discriminator loss = 0.7555 || The Generator loss = 1.2822\n",
      "Epoch/Phase :5/2 : The Discriminator loss = 0.7109 || The Generator loss = 2.0372\n",
      "Epoch/Phase :6/2 : The Discriminator loss = 0.6669 || The Generator loss = 2.1764\n",
      "Epoch/Phase :7/2 : The Discriminator loss = 0.6579 || The Generator loss = 2.2922\n",
      "Epoch/Phase :8/2 : The Discriminator loss = 0.6545 || The Generator loss = 2.3300\n",
      "Epoch/Phase :9/2 : The Discriminator loss = 0.6528 || The Generator loss = 2.2908\n",
      "Epoch/Phase :10/2 : The Discriminator loss = 0.6514 || The Generator loss = 2.2862\n",
      "Epoch/Phase :11/2 : The Discriminator loss = 0.6521 || The Generator loss = 2.3088\n",
      "Epoch/Phase :12/2 : The Discriminator loss = 0.6545 || The Generator loss = 2.1782\n",
      "Epoch/Phase :13/2 : The Discriminator loss = 0.6538 || The Generator loss = 2.2964\n",
      "Epoch/Phase :14/2 : The Discriminator loss = 0.6572 || The Generator loss = 2.2322\n",
      "Epoch/Phase :15/2 : The Discriminator loss = 0.6625 || The Generator loss = 1.8291\n",
      "Epoch/Phase :16/2 : The Discriminator loss = 0.6611 || The Generator loss = 2.2333\n",
      "Epoch/Phase :17/2 : The Discriminator loss = 0.6539 || The Generator loss = 2.2780\n",
      "Epoch/Phase :18/2 : The Discriminator loss = 0.6533 || The Generator loss = 2.3105\n",
      "Epoch/Phase :19/2 : The Discriminator loss = 0.6530 || The Generator loss = 2.3331\n",
      "Epoch/Phase :20/2 : The Discriminator loss = 0.6522 || The Generator loss = 2.2950\n",
      "Epoch/Phase :21/2 : The Discriminator loss = 0.6524 || The Generator loss = 2.2569\n",
      "Epoch/Phase :22/2 : The Discriminator loss = 0.7223 || The Generator loss = 2.8116\n",
      "Epoch/Phase :23/2 : The Discriminator loss = 0.6526 || The Generator loss = 2.2936\n",
      "Epoch/Phase :24/2 : The Discriminator loss = 0.6632 || The Generator loss = 2.2286\n",
      "Starting the 3 level\n",
      "Epoch/Phase :0/3 : The Discriminator loss = 0.6616 || The Generator loss = 2.1575\n",
      "Epoch/Phase :1/3 : The Discriminator loss = 0.6511 || The Generator loss = 2.3025\n",
      "Epoch/Phase :2/3 : The Discriminator loss = 0.7186 || The Generator loss = 1.9675\n",
      "Epoch/Phase :3/3 : The Discriminator loss = 0.6604 || The Generator loss = 2.2488\n",
      "Epoch/Phase :4/3 : The Discriminator loss = 0.6732 || The Generator loss = 2.2954\n",
      "Epoch/Phase :5/3 : The Discriminator loss = 0.7000 || The Generator loss = 2.7530\n",
      "Epoch/Phase :6/3 : The Discriminator loss = 0.6530 || The Generator loss = 2.2573\n",
      "Epoch/Phase :7/3 : The Discriminator loss = 0.6513 || The Generator loss = 2.2855\n",
      "Epoch/Phase :8/3 : The Discriminator loss = 0.6512 || The Generator loss = 2.2922\n",
      "Epoch/Phase :9/3 : The Discriminator loss = 0.6504 || The Generator loss = 2.3602\n",
      "Epoch/Phase :10/3 : The Discriminator loss = 0.6635 || The Generator loss = 2.7015\n",
      "Epoch/Phase :11/3 : The Discriminator loss = 0.6546 || The Generator loss = 2.3017\n",
      "Epoch/Phase :12/3 : The Discriminator loss = 0.6536 || The Generator loss = 2.4163\n",
      "Epoch/Phase :13/3 : The Discriminator loss = 0.6545 || The Generator loss = 2.3220\n",
      "Epoch/Phase :14/3 : The Discriminator loss = 0.6528 || The Generator loss = 2.3034\n",
      "Epoch/Phase :15/3 : The Discriminator loss = 0.6660 || The Generator loss = 2.5465\n",
      "Epoch/Phase :16/3 : The Discriminator loss = 0.6523 || The Generator loss = 2.2855\n",
      "Epoch/Phase :17/3 : The Discriminator loss = 0.6540 || The Generator loss = 2.3042\n",
      "Epoch/Phase :18/3 : The Discriminator loss = 0.6525 || The Generator loss = 2.2821\n",
      "Epoch/Phase :19/3 : The Discriminator loss = 0.6610 || The Generator loss = 2.2862\n",
      "Epoch/Phase :20/3 : The Discriminator loss = 0.6569 || The Generator loss = 2.2826\n",
      "Epoch/Phase :21/3 : The Discriminator loss = 0.6570 || The Generator loss = 2.5359\n",
      "Epoch/Phase :22/3 : The Discriminator loss = 0.6553 || The Generator loss = 2.2818\n",
      "Epoch/Phase :23/3 : The Discriminator loss = 0.6763 || The Generator loss = 2.3145\n",
      "Epoch/Phase :24/3 : The Discriminator loss = 0.6949 || The Generator loss = 1.5401\n"
     ]
    }
   ],
   "source": [
    "lr = 0.0002\n",
    "beta1=0.3\n",
    "beta2=0.999  \n",
    "test = np.random.normal(0,1,size=(params['batch_size'],100)) #torch.randn(16,100)\n",
    "test = torch.from_numpy(test).float()\n",
    "losses =[]\n",
    "j =0 \n",
    "for i in range(1,4):\n",
    "    print('Starting the {} level'.format(i))\n",
    "    if i != 1:\n",
    "        D.grow(i,d_dim[j])\n",
    "        G.grow(i,g_dim[j])\n",
    "        j +=1\n",
    "    # Create optimizers for the discriminator D and generator G\n",
    "    d_optimizer = optim.Adam(D.parameters(),lr=lr,betas=[beta1, beta2])\n",
    "    g_optimizer = optim.Adam(G.parameters(),lr=lr*beta2,betas=[beta1, beta2])\n",
    "    if torch.cuda.is_available:\n",
    "        G.cuda()\n",
    "        D.cuda()\n",
    "    for e in range(epochs[i-1]):\n",
    "        alpha = (e+1)/epochs[i-1]\n",
    "        for x,_ in loader:\n",
    "            if torch.cuda.is_available:\n",
    "                x = x.cuda()\n",
    "            d_optimizer.zero_grad()\n",
    "            # real\n",
    "            x = D.downSample(x,down_times[i-1])\n",
    "            out_real = D.train_d(x,i,alpha)\n",
    "            d_real = real_loss(out_real,smooth=True)\n",
    "            # fake\n",
    "            z = np.random.normal(0,1,size=(params['batch_size'],100))\n",
    "            z= torch.from_numpy(z).float()\n",
    "            if torch.cuda.is_available:\n",
    "                z = z.cuda()\n",
    "            out_fake = G.train_g(z,i,alpha)\n",
    "            out_fake = D.train_d(out_fake,i,alpha)\n",
    "            d_fake = fake_loss(out_fake)\n",
    "            \n",
    "            d_loss = d_real+d_fake\n",
    "            d_loss.backward()\n",
    "            d_optimizer.step()\n",
    "            # generator\n",
    "            g_optimizer.zero_grad()\n",
    "            \n",
    "            z = np.random.normal(0,1,size=(params['batch_size'],100))\n",
    "            z= torch.from_numpy(z).float()\n",
    "            if torch.cuda.is_available:\n",
    "                z = z.cuda()\n",
    "            out_g = G.train_g(z,i,alpha)\n",
    "            out_g = D.train_d(out_g,i,alpha)\n",
    "            g_loss = real_loss(out_g)\n",
    "            \n",
    "            g_loss.backward()\n",
    "            g_optimizer.step()\n",
    "        else:\n",
    "            if e %1 == 0:\n",
    "                losses.append((d_loss.item(),g_loss.item()))\n",
    "                print('Epoch/Phase :{}/{} : The Discriminator loss = {:6.4f} || The Generator loss = {:6.4f}'.format(e,i,d_loss.item(),g_loss.item()))\n",
    "#     else:\n",
    "#         G.eval()\n",
    "#         if torch.cuda.is_available:\n",
    "#             test = test.cuda()\n",
    "#         img = G.train_g(test,i,1)\n",
    "#         G.train()\n",
    "#         img = img.cpu().detach()\n",
    "#         plt.imshow(np.transpose(img[0].numpy(), (1, 2, 0)))"
   ]
  },
  {
   "cell_type": "code",
   "execution_count": 23,
   "metadata": {},
   "outputs": [
    {
     "data": {
      "text/plain": [
       "<matplotlib.image.AxesImage at 0x7faf780d8898>"
      ]
     },
     "execution_count": 23,
     "metadata": {},
     "output_type": "execute_result"
    },
    {
     "data": {
      "image/png": "[encoded data removed]",
      "text/plain": [
       "<Figure size 216x216 with 1 Axes>"
      ]
     },
     "metadata": {
      "needs_background": "light"
     },
     "output_type": "display_data"
    }
   ],
   "source": [
    "G.eval()\n",
    "if torch.cuda.is_available:\n",
    "        test = test.cuda()\n",
    "img = G.train_g(test,3,1)\n",
    "G.train()\n",
    "img = img.cpu().detach().numpy()\n",
    "img = np.squeeze(img[2])\n",
    "\n",
    "fig = plt.figure(figsize = (3,3)) \n",
    "ax = fig.add_subplot(111)\n",
    "ax.imshow(img, cmap='gray')\n",
    "# plt.imshow(np.transpose(img[0].numpy(), (1, 2, 0)))"
   ]
  },
  {
   "cell_type": "code",
   "execution_count": null,
   "metadata": {},
   "outputs": [],
   "source": [
    "img = np.squeeze(img[2])\n",
    "\n",
    "fig = plt.figure(figsize = (3,3)) \n",
    "ax = fig.add_subplot(111)\n",
    "ax.imshow(img, cmap='gray')"
   ]
  },
  {
   "cell_type": "code",
   "execution_count": null,
   "metadata": {},
   "outputs": [],
   "source": [
    "img[10].numpy()"
   ]
  },
  {
   "cell_type": "code",
   "execution_count": null,
   "metadata": {},
   "outputs": [],
   "source": []
  }
 ],
 "metadata": {
  "kernelspec": {
   "display_name": "Python 3",
   "language": "python",
   "name": "python3"
  },
  "language_info": {
   "codemirror_mode": {
    "name": "ipython",
    "version": 3
   },
   "file_extension": ".py",
   "mimetype": "text/x-python",
   "name": "python",
   "nbconvert_exporter": "python",
   "pygments_lexer": "ipython3",
   "version": "3.6.10"
  }
 },
 "nbformat": 4,
 "nbformat_minor": 4
}
