{
 "cells": [
  {
   "cell_type": "code",
   "execution_count": 1,
   "metadata": {},
   "outputs": [],
   "source": [
    "import torch\n",
    "import torch.nn as nn\n",
    "from torchvision import datasets\n",
    "from torchvision import transforms\n",
    "import numpy as np\n",
    "import matplotlib.pyplot as plt\n",
    "import math\n",
    "import torch.optim as optim\n",
    "import numpy as np"
   ]
  },
  {
   "cell_type": "code",
   "execution_count": 2,
   "metadata": {},
   "outputs": [],
   "source": [
    "# def dataExtraction(params):\n",
    "#     transform = transforms.Compose([\n",
    "#     transforms.CenterCrop(160),\n",
    "#     transforms.ToTensor()])\n",
    "#     img = datasets.ImageFolder(root='asl_alphabets/gan_train/',\n",
    "#                                transform=transform)\n",
    "#     dataload = torch.utils.data.DataLoader(img,**params)\n",
    "#     return dataload"
   ]
  },
  {
   "cell_type": "code",
   "execution_count": 3,
   "metadata": {},
   "outputs": [],
   "source": [
    "params = {'batch_size': 32,\n",
    "          'shuffle': True,\n",
    "          'num_workers': 6}\n",
    "transform = transforms.Compose([\n",
    "    transforms.ToTensor(),\n",
    "    transforms.Normalize([0],[1])\n",
    "])\n",
    "data = datasets.FashionMNIST(root = 'data',train=True,download=True,\n",
    "                                           transform=transform)\n",
    "loader = torch.utils.data.DataLoader(data,**params)"
   ]
  },
  {
   "cell_type": "code",
   "execution_count": 4,
   "metadata": {},
   "outputs": [
    {
     "data": {
      "text/plain": [
       "<matplotlib.image.AxesImage at 0x7fe45036c240>"
      ]
     },
     "execution_count": 4,
     "metadata": {},
     "output_type": "execute_result"
    },
    {
     "data": {
      "image/png": "[encoded data removed]",
      "text/plain": [
       "<Figure size 216x216 with 1 Axes>"
      ]
     },
     "metadata": {
      "needs_background": "light"
     },
     "output_type": "display_data"
    }
   ],
   "source": [
    "x,_= next(iter(loader))\n",
    "x = x.numpy()\n",
    "img = np.squeeze(x[0])\n",
    "\n",
    "fig = plt.figure(figsize = (3,3)) \n",
    "ax = fig.add_subplot(111)\n",
    "ax.imshow(img, cmap='gray')\n",
    "# plt.imshow(np.transpose(x[0].numpy(), (1, 2, 0)))"
   ]
  },
  {
   "cell_type": "code",
   "execution_count": 5,
   "metadata": {},
   "outputs": [],
   "source": [
    "class pixelNormalization(nn.Module):\n",
    "    def __init__(self):\n",
    "        super(pixelNormalization,self).__init__()\n",
    "        \n",
    "    def forward(self,x):\n",
    "        eps = 1e-8\n",
    "        batch, dim = x.shape[0], x.shape[1]\n",
    "        if dim == 1:\n",
    "            return x\n",
    "        y,z = x.shape[2] , x.shape[3]\n",
    "        x = x.view(batch,dim,-1)\n",
    "        x_p = x/torch.sqrt(((1/dim)*x.sum(1)**2)+eps)\n",
    "        x_p = x_p.view(batch,dim,y,z)\n",
    "        return x_p"
   ]
  },
  {
   "cell_type": "code",
   "execution_count": 6,
   "metadata": {},
   "outputs": [],
   "source": [
    "def tconv_section(inp,out,*args,**kargs):\n",
    "    return nn.Sequential(\n",
    "        nn.ConvTranspose2d(inp,out,*args,**kargs),\n",
    "        pixelNormalization(),\n",
    "#          nn.BatchNorm2d(out),\n",
    "        nn.LeakyReLU(negative_slope=0.1)\n",
    "    )\n",
    "def tconv_block(a,*args,**kargs):\n",
    "    layers = [tconv_section(i,j,*args,**kargs) for i,j in zip(a,a[1:])]\n",
    "    return nn.Sequential(*layers)"
   ]
  },
  {
   "cell_type": "code",
   "execution_count": 7,
   "metadata": {},
   "outputs": [
    {
     "data": {
      "text/plain": [
       "Sequential(\n",
       "  (0): Sequential(\n",
       "    (0): ConvTranspose2d(1, 16, kernel_size=(3, 3), stride=(1, 1), padding=(1, 1))\n",
       "    (1): pixelNormalization()\n",
       "    (2): LeakyReLU(negative_slope=0.1)\n",
       "  )\n",
       "  (1): Sequential(\n",
       "    (0): ConvTranspose2d(16, 16, kernel_size=(3, 3), stride=(1, 1), padding=(1, 1))\n",
       "    (1): pixelNormalization()\n",
       "    (2): LeakyReLU(negative_slope=0.1)\n",
       "  )\n",
       ")"
      ]
     },
     "execution_count": 7,
     "metadata": {},
     "output_type": "execute_result"
    }
   ],
   "source": [
    "tconv_block([1,16,16], kernel_size=3, padding=1)"
   ]
  },
  {
   "cell_type": "code",
   "execution_count": 8,
   "metadata": {},
   "outputs": [],
   "source": [
    "def to_rgb(in_size,*args,**kargs):\n",
    "    out =1\n",
    "    return nn.Sequential(\n",
    "        nn.ConvTranspose2d(in_size,out,*args,**kargs),\n",
    "#         pixelNormalization(),\n",
    "#          nn.BatchNorm2d(out),\n",
    "        nn.LeakyReLU(negative_slope=0.1)\n",
    "    )"
   ]
  },
  {
   "cell_type": "code",
   "execution_count": 9,
   "metadata": {},
   "outputs": [],
   "source": [
    "# weights\n",
    "def init_weights(x,mean=0,std=1):\n",
    "    i = x.__class__.__name__\n",
    "    if (i == 'Conv2d' or i == 'Linear' or i == 'ConvTranspose2d'):\n",
    "        nn.init.normal_(x.weight.data, mean=mean, std=std)\n",
    "\n",
    "# var = 2/fan_in version of initialization - https://medium.com/@prateekvishnu/xavier-and-he-normal-he-et-al-initialization-8e3d7a087528\n",
    "def he_initialization(x):\n",
    "    i = x.__class__.__name__\n",
    "    if (i == 'Conv2d' or i == 'ConvTranspose2d'):\n",
    "        x.weight*(math.sqrt(2/(x.weight.shape[1]*x.weight.shape[2]*x.weight.shape[3])))\n",
    "    elif (i == 'Linear'):\n",
    "        x.weight*(math.sqrt(2/x.weight.shape[1]))\n",
    "        \n",
    "def scale(x, feature_range=(-1, 1)):\n",
    "    x = x*(feature_range[1] - feature_range[0]) + feature_range[0]\n",
    "    return x"
   ]
  },
  {
   "cell_type": "code",
   "execution_count": 10,
   "metadata": {},
   "outputs": [],
   "source": [
    "class Generator(nn.Module):\n",
    "    def __init__(self,z_size=100):\n",
    "        super(Generator,self).__init__()\n",
    "        self.linear = nn.Sequential(\n",
    "            nn.Linear(z_size,49),\n",
    "            nn.ReLU()\n",
    "        )\n",
    "        self.dict = nn.ModuleDict({\n",
    "            'layer_1': tconv_block([1,32,32], kernel_size=3, padding=1),\n",
    "            'Upsample': nn.Upsample(scale_factor=2, mode='nearest'),\n",
    "            'to_rgb_1': to_rgb(32,kernel_size=3, padding=1)\n",
    "        })\n",
    "    def grow(self,n,args):\n",
    "        self.dict['layer_{}'.format(n)] = tconv_block(args, kernel_size=3, padding=1)\n",
    "        self.dict['to_rgb_{}'.format(n)] = to_rgb(args[-1], kernel_size=3, padding=1)\n",
    "        self.dict['layer_{}'.format(n)].apply(init_weights)\n",
    "        self.dict['to_rgb_{}'.format(n)].apply(init_weights)\n",
    "    \n",
    "    def train_g(self,x,n,aplha):\n",
    "        self.dict.apply(he_initialization)\n",
    "        batch_size = x.shape[0]\n",
    "        x = self.linear(x)\n",
    "        x = x.view(batch_size,1,7,7)\n",
    "        for i in range(n):\n",
    "            if i == 0:\n",
    "                x = self.dict['layer_{}'.format(i+1)](x)\n",
    "#                 x = pixelNormalization(x)\n",
    "                if n == 1:\n",
    "                    x = self.dict['to_rgb_{}'.format(i+1)](x)\n",
    "            elif i+1 == n:\n",
    "                x = self.dict['Upsample'](x)\n",
    "                out = self.dict['layer_{}'.format(i+1)](x)\n",
    "                out = self.dict['to_rgb_{}'.format(i+1)](out)\n",
    "#                 out = pixelNormalization(out)\n",
    "                x = self.dict['to_rgb_{}'.format(i)](x)\n",
    "#                 x = pixelNormalization(x)\n",
    "                x = (1-aplha)*x + aplha*(out)\n",
    "            else:\n",
    "                x = self.dict['Upsample'](x)\n",
    "                x = self.dict['layer_{}'.format(i+1)](x)\n",
    "#                 x = pixelNormalization(x)\n",
    "            x = torch.tanh(x)\n",
    "        return x\n",
    "                \n",
    "    def forward(self,x,n):\n",
    "        batch_size = x.shape[0]\n",
    "        x = self.linear(x)\n",
    "        x = x.view(batch_size,1,7,7)\n",
    "        \n",
    "        for i in range(n):\n",
    "            if i == 0:\n",
    "                x = self.dict['layer_{}'.format(i+1)](x)\n",
    "            else:\n",
    "                x = self.dict['Upsample'](x)\n",
    "                x = self.dict['layer_{}'.format(i+1)](x)\n",
    "                \n",
    "        return x"
   ]
  },
  {
   "cell_type": "code",
   "execution_count": 11,
   "metadata": {},
   "outputs": [],
   "source": [
    "def conv_section(inp,out,*args,**kargs):\n",
    "    return nn.Sequential(\n",
    "        nn.Conv2d(inp,out,*args,**kargs),\n",
    "        pixelNormalization(),\n",
    "#         nn.BatchNorm2d(out),\n",
    "        nn.LeakyReLU(negative_slope=0.1)\n",
    "    )\n",
    "def conv_block(a,*args,**kargs):\n",
    "    layers = [conv_section(i,j,*args,**kargs) for i,j in zip(a,a[1:])]\n",
    "    return nn.Sequential(*layers)\n",
    "\n",
    "def from_rgb(out,*args,**kargs):\n",
    "    in_size = 1\n",
    "    return nn.Sequential(\n",
    "        nn.Conv2d(in_size,out,*args,**kargs),\n",
    "        pixelNormalization(),\n",
    "#         nn.BatchNorm2d(out),\n",
    "        nn.LeakyReLU(negative_slope=0.1)\n",
    "    )"
   ]
  },
  {
   "cell_type": "code",
   "execution_count": 12,
   "metadata": {},
   "outputs": [],
   "source": [
    "class Discriminator(nn.Module):\n",
    "    def __init__(self):\n",
    "        super(Discriminator,self).__init__()\n",
    "        self.down = nn.AvgPool2d(kernel_size=2)\n",
    "        self.dict = nn.ModuleDict({\n",
    "            'layer_1': conv_block([(32+1),32,1], kernel_size=3, padding=1),# account for minbatch stddev\n",
    "            'Upsample': nn.Upsample(scale_factor=2, mode='nearest'),\n",
    "            'from_rgb_1': from_rgb(32,kernel_size=3, padding=1)\n",
    "        })\n",
    "        self.linear = nn.Sequential(\n",
    "            nn.Linear(49,1)\n",
    "#             nn.Linear(10,1)\n",
    "        )\n",
    "#         self.sigmoid = nn.Sigmoid()\n",
    "        \n",
    "    def grow(self,n,args):\n",
    "        rgb = args[0] \n",
    "        self.dict['layer_{}'.format(n)] = conv_block(args, kernel_size=3, padding=1)\n",
    "        self.dict['from_rgb_{}'.format(n)] = from_rgb(rgb, kernel_size=3, padding=1)\n",
    "        self.dict['layer_{}'.format(n)].apply(init_weights)\n",
    "        self.dict['from_rgb_{}'.format(n)].apply(init_weights)\n",
    "        \n",
    "    def train_d(self,x,n,alpha):\n",
    "        self.dict.apply(he_initialization)\n",
    "        for i in range(n,0,-1):\n",
    "            if n == 1:\n",
    "                x = self.dict['from_rgb_{}'.format(n)](x)\n",
    "                x = self.min_batch_stddev(x)\n",
    "                x = self.dict['layer_{}'.format(n)](x)\n",
    "            elif i == n:\n",
    "                store = self.dict['from_rgb_{}'.format(n-1)](self.down(x))\n",
    "                x = self.dict['from_rgb_{}'.format(n)](x)\n",
    "                x = self.dict['layer_{}'.format(n)](x)\n",
    "                x = self.down(x)\n",
    "            elif i == n-1:\n",
    "                x = (1-alpha)*x + alpha*(store)\n",
    "                if i == 1:\n",
    "                    x = self.min_batch_stddev(x)\n",
    "                x = self.dict['layer_{}'.format(i)](x)\n",
    "            else:\n",
    "                if i == 1:\n",
    "                    x = self.min_batch_stddev(x)\n",
    "                x = self.dict['layer_{}'.format(i)](x)\n",
    "                x = self.down(x)\n",
    "        \n",
    "        x = x.view(-1,49)\n",
    "        x = self.linear(x)\n",
    "                \n",
    "        return x\n",
    "    \n",
    "    def downSample(self,x,n):\n",
    "        if n < 0:\n",
    "            return x\n",
    "        for i in range(n):\n",
    "            x = self.down(x)\n",
    "            \n",
    "        return x\n",
    "    def min_batch_stddev(self,x):\n",
    "#         min batch standard deviation pixel-wise std\n",
    "        y,z = x.shape[2],x.shape[3]\n",
    "        batch = x.shape[0]\n",
    "        x = x.view(batch,x.shape[1],-1)\n",
    "        dev = x.std(1)\n",
    "        dev = dev.view(batch,1,-1)\n",
    "        x = torch.cat([x,dev],1)\n",
    "        x = x.view(-1,x.shape[1],y,z)\n",
    "        return x\n",
    "                "
   ]
  },
  {
   "cell_type": "code",
   "execution_count": 13,
   "metadata": {},
   "outputs": [
    {
     "data": {
      "text/plain": [
       "Discriminator(\n",
       "  (down): AvgPool2d(kernel_size=2, stride=2, padding=0)\n",
       "  (dict): ModuleDict(\n",
       "    (Upsample): Upsample(scale_factor=2.0, mode=nearest)\n",
       "    (from_rgb_1): Sequential(\n",
       "      (0): Conv2d(1, 32, kernel_size=(3, 3), stride=(1, 1), padding=(1, 1))\n",
       "      (1): pixelNormalization()\n",
       "      (2): LeakyReLU(negative_slope=0.1)\n",
       "    )\n",
       "    (layer_1): Sequential(\n",
       "      (0): Sequential(\n",
       "        (0): Conv2d(33, 32, kernel_size=(3, 3), stride=(1, 1), padding=(1, 1))\n",
       "        (1): pixelNormalization()\n",
       "        (2): LeakyReLU(negative_slope=0.1)\n",
       "      )\n",
       "      (1): Sequential(\n",
       "        (0): Conv2d(32, 1, kernel_size=(3, 3), stride=(1, 1), padding=(1, 1))\n",
       "        (1): pixelNormalization()\n",
       "        (2): LeakyReLU(negative_slope=0.1)\n",
       "      )\n",
       "    )\n",
       "  )\n",
       "  (linear): Sequential(\n",
       "    (0): Linear(in_features=49, out_features=1, bias=True)\n",
       "  )\n",
       ")"
      ]
     },
     "execution_count": 13,
     "metadata": {},
     "output_type": "execute_result"
    }
   ],
   "source": [
    "D = Discriminator()\n",
    "D.apply(init_weights)"
   ]
  },
  {
   "cell_type": "code",
   "execution_count": 14,
   "metadata": {},
   "outputs": [
    {
     "data": {
      "text/plain": [
       "Generator(\n",
       "  (linear): Sequential(\n",
       "    (0): Linear(in_features=100, out_features=49, bias=True)\n",
       "    (1): ReLU()\n",
       "  )\n",
       "  (dict): ModuleDict(\n",
       "    (Upsample): Upsample(scale_factor=2.0, mode=nearest)\n",
       "    (layer_1): Sequential(\n",
       "      (0): Sequential(\n",
       "        (0): ConvTranspose2d(1, 32, kernel_size=(3, 3), stride=(1, 1), padding=(1, 1))\n",
       "        (1): pixelNormalization()\n",
       "        (2): LeakyReLU(negative_slope=0.1)\n",
       "      )\n",
       "      (1): Sequential(\n",
       "        (0): ConvTranspose2d(32, 32, kernel_size=(3, 3), stride=(1, 1), padding=(1, 1))\n",
       "        (1): pixelNormalization()\n",
       "        (2): LeakyReLU(negative_slope=0.1)\n",
       "      )\n",
       "    )\n",
       "    (to_rgb_1): Sequential(\n",
       "      (0): ConvTranspose2d(32, 1, kernel_size=(3, 3), stride=(1, 1), padding=(1, 1))\n",
       "      (1): LeakyReLU(negative_slope=0.1)\n",
       "    )\n",
       "  )\n",
       ")"
      ]
     },
     "execution_count": 14,
     "metadata": {},
     "output_type": "execute_result"
    }
   ],
   "source": [
    "G = Generator()\n",
    "G.apply(init_weights)"
   ]
  },
  {
   "cell_type": "markdown",
   "metadata": {},
   "source": [
    "## loss function"
   ]
  },
  {
   "cell_type": "code",
   "execution_count": 15,
   "metadata": {},
   "outputs": [],
   "source": [
    "# def real_loss(x,smooth=False):\n",
    "#     x = torch.relu(x)\n",
    "#     if smooth == True:\n",
    "#         loss = torch.mean(torch.abs(x - 0.9))\n",
    "#     else:\n",
    "#         loss = torch.mean(torch.abs(x - 1))\n",
    "        \n",
    "#     return loss\n",
    "\n",
    "# def fake_loss(x):\n",
    "#     x = torch.relu(x)\n",
    "#     loss = torch.mean(torch.abs(x - 0.1))\n",
    "#     return loss"
   ]
  },
  {
   "cell_type": "code",
   "execution_count": 16,
   "metadata": {},
   "outputs": [],
   "source": [
    "def real_loss(D_out,smooth = False):\n",
    "    batch_size = D_out.size(0)\n",
    "    if smooth:\n",
    "        labels =torch.ones(batch_size)*0.9\n",
    "    else:\n",
    "        labels = torch.ones(batch_size)\n",
    "        \n",
    "    if torch.cuda.is_available:\n",
    "        labels = labels.cuda()\n",
    "        \n",
    "    crit = nn.BCEWithLogitsLoss()\n",
    "    loss = crit(D_out.squeeze(),labels)\n",
    "    return loss\n",
    "def fake_loss(D_out):\n",
    "    labels = torch.ones(D_out.size(0))*0.1\n",
    "    crit = nn.BCEWithLogitsLoss()\n",
    "    \n",
    "    if torch.cuda.is_available:\n",
    "        labels = labels.cuda()\n",
    "        \n",
    "    loss = crit(D_out.squeeze(),labels)\n",
    "    return loss"
   ]
  },
  {
   "cell_type": "markdown",
   "metadata": {},
   "source": [
    "### Growth dimmensions"
   ]
  },
  {
   "cell_type": "code",
   "execution_count": 17,
   "metadata": {},
   "outputs": [],
   "source": [
    "g_dim = [[32,32,32,32],[32,32,32,32]]\n",
    "d_dim = [[32,32,32,32,32],[32,32,32,32,32]]\n",
    "# down sampling times\n",
    "down_times = [2,1,0]\n",
    "# epochs \n",
    "epochs = [35,35,35]"
   ]
  },
  {
   "cell_type": "code",
   "execution_count": 18,
   "metadata": {},
   "outputs": [
    {
     "name": "stdout",
     "output_type": "stream",
     "text": [
      "Starting the 1 level\n",
      "Epoch/Phase :0/1 : The Discriminator loss = 5277.4551 || The Generator loss = 35781.4102\n",
      "Epoch/Phase :1/1 : The Discriminator loss = -1426.0662 || The Generator loss = 2239.0029\n",
      "Epoch/Phase :2/1 : The Discriminator loss = 3432.6562 || The Generator loss = -923.4218\n",
      "Epoch/Phase :3/1 : The Discriminator loss = 1856.2622 || The Generator loss = 1496.0721\n",
      "Epoch/Phase :4/1 : The Discriminator loss = 348.9370 || The Generator loss = -549.9196\n",
      "Epoch/Phase :5/1 : The Discriminator loss = 1836.6812 || The Generator loss = 57.0834\n",
      "Epoch/Phase :6/1 : The Discriminator loss = 4586.9189 || The Generator loss = 378.6982\n",
      "Epoch/Phase :7/1 : The Discriminator loss = 62.2992 || The Generator loss = -1564.3484\n",
      "Epoch/Phase :8/1 : The Discriminator loss = -533.1854 || The Generator loss = 8252.7051\n",
      "Epoch/Phase :9/1 : The Discriminator loss = 5634.5859 || The Generator loss = 1136.9800\n",
      "Epoch/Phase :10/1 : The Discriminator loss = -673.7607 || The Generator loss = 16516.1973\n",
      "Epoch/Phase :11/1 : The Discriminator loss = 1925.3892 || The Generator loss = -10300.0557\n",
      "Epoch/Phase :12/1 : The Discriminator loss = 9822.5303 || The Generator loss = 879.3990\n",
      "Epoch/Phase :13/1 : The Discriminator loss = -1813.5013 || The Generator loss = -3036.2341\n",
      "Epoch/Phase :14/1 : The Discriminator loss = -838.3881 || The Generator loss = 253.0616\n",
      "Epoch/Phase :15/1 : The Discriminator loss = 8839.6133 || The Generator loss = 4465.5601\n",
      "Epoch/Phase :16/1 : The Discriminator loss = -2990.6907 || The Generator loss = -283.4536\n",
      "Epoch/Phase :17/1 : The Discriminator loss = 359.6886 || The Generator loss = -1105.3545\n",
      "Epoch/Phase :18/1 : The Discriminator loss = -31351.3516 || The Generator loss = 848.5548\n",
      "Epoch/Phase :19/1 : The Discriminator loss = 4595.2480 || The Generator loss = 8099.7827\n",
      "Epoch/Phase :20/1 : The Discriminator loss = -16921.0781 || The Generator loss = 5068.2651\n",
      "Epoch/Phase :21/1 : The Discriminator loss = -2741.1499 || The Generator loss = 1052.0745\n",
      "Epoch/Phase :22/1 : The Discriminator loss = 11817.9844 || The Generator loss = 2736.4683\n",
      "Epoch/Phase :23/1 : The Discriminator loss = -1251.6064 || The Generator loss = -3842.0266\n",
      "Epoch/Phase :24/1 : The Discriminator loss = 2191.1567 || The Generator loss = 456.3775\n",
      "Epoch/Phase :25/1 : The Discriminator loss = 14695.6367 || The Generator loss = -61.4608\n",
      "Epoch/Phase :26/1 : The Discriminator loss = -6124.2041 || The Generator loss = -330.4236\n",
      "Epoch/Phase :27/1 : The Discriminator loss = -22841.2305 || The Generator loss = 685.8628\n",
      "Epoch/Phase :28/1 : The Discriminator loss = -195356.1719 || The Generator loss = -2012.9543\n",
      "Epoch/Phase :29/1 : The Discriminator loss = 233229.1562 || The Generator loss = -70.5165\n",
      "Epoch/Phase :30/1 : The Discriminator loss = -3744.4541 || The Generator loss = 2975.5503\n",
      "Epoch/Phase :31/1 : The Discriminator loss = 24280.1289 || The Generator loss = 295.4157\n",
      "Epoch/Phase :32/1 : The Discriminator loss = 51.6691 || The Generator loss = -497.5424\n",
      "Epoch/Phase :33/1 : The Discriminator loss = 58293.8867 || The Generator loss = -104.6022\n",
      "Epoch/Phase :34/1 : The Discriminator loss = -3145.8755 || The Generator loss = 541.3557\n",
      "Starting the 2 level\n",
      "Epoch/Phase :0/2 : The Discriminator loss = -4989.8257 || The Generator loss = -3099.6963\n",
      "Epoch/Phase :1/2 : The Discriminator loss = 4892.2935 || The Generator loss = 5688.9780\n",
      "Epoch/Phase :2/2 : The Discriminator loss = -84087.1797 || The Generator loss = 181.1674\n",
      "Epoch/Phase :3/2 : The Discriminator loss = -23542.6992 || The Generator loss = -2593.2861\n",
      "Epoch/Phase :4/2 : The Discriminator loss = 8961.8477 || The Generator loss = -1759.3921\n",
      "Epoch/Phase :5/2 : The Discriminator loss = 27387.8320 || The Generator loss = 657.7347\n",
      "Epoch/Phase :6/2 : The Discriminator loss = -2526.2334 || The Generator loss = 14347.8242\n",
      "Epoch/Phase :7/2 : The Discriminator loss = -6149.4761 || The Generator loss = 35067.8047\n",
      "Epoch/Phase :8/2 : The Discriminator loss = -1405.8606 || The Generator loss = -3355.3333\n",
      "Epoch/Phase :9/2 : The Discriminator loss = -5.8315 || The Generator loss = 503.2754\n",
      "Epoch/Phase :10/2 : The Discriminator loss = -3915.6697 || The Generator loss = 9486.2773\n",
      "Epoch/Phase :11/2 : The Discriminator loss = 3060.2346 || The Generator loss = 1002.4232\n",
      "Epoch/Phase :12/2 : The Discriminator loss = -1982.2139 || The Generator loss = -6268.7666\n",
      "Epoch/Phase :13/2 : The Discriminator loss = 2284.5549 || The Generator loss = 807.2832\n",
      "Epoch/Phase :14/2 : The Discriminator loss = -1014.4561 || The Generator loss = 1296.8909\n",
      "Epoch/Phase :15/2 : The Discriminator loss = -26931.3828 || The Generator loss = -14854.7188\n",
      "Epoch/Phase :16/2 : The Discriminator loss = -4608.8545 || The Generator loss = 201.2380\n",
      "Epoch/Phase :17/2 : The Discriminator loss = 450.5415 || The Generator loss = 541.8893\n",
      "Epoch/Phase :18/2 : The Discriminator loss = 413.3658 || The Generator loss = -16067.4541\n",
      "Epoch/Phase :19/2 : The Discriminator loss = 11002.4346 || The Generator loss = -8940.9707\n",
      "Epoch/Phase :20/2 : The Discriminator loss = 5150.5176 || The Generator loss = -46221.5859\n",
      "Epoch/Phase :21/2 : The Discriminator loss = -10358.5410 || The Generator loss = 224.7356\n",
      "Epoch/Phase :22/2 : The Discriminator loss = 5010.0381 || The Generator loss = -1820.9443\n",
      "Epoch/Phase :23/2 : The Discriminator loss = 1384.9729 || The Generator loss = -3227.8735\n",
      "Epoch/Phase :24/2 : The Discriminator loss = 2961.4561 || The Generator loss = -1062.6555\n",
      "Epoch/Phase :25/2 : The Discriminator loss = 1401.9773 || The Generator loss = 392.7769\n",
      "Epoch/Phase :26/2 : The Discriminator loss = 6612.6523 || The Generator loss = -837.5587\n",
      "Epoch/Phase :27/2 : The Discriminator loss = -1119.4866 || The Generator loss = 1865.6285\n",
      "Epoch/Phase :28/2 : The Discriminator loss = 364.9764 || The Generator loss = 886.9527\n",
      "Epoch/Phase :29/2 : The Discriminator loss = 2709.4304 || The Generator loss = 1105.8350\n",
      "Epoch/Phase :30/2 : The Discriminator loss = 1998.2183 || The Generator loss = -5630.0244\n",
      "Epoch/Phase :31/2 : The Discriminator loss = -2676.8955 || The Generator loss = 1951.0626\n",
      "Epoch/Phase :32/2 : The Discriminator loss = -1956.6929 || The Generator loss = 3074.6028\n",
      "Epoch/Phase :33/2 : The Discriminator loss = -10039.9033 || The Generator loss = -1973.1370\n",
      "Epoch/Phase :34/2 : The Discriminator loss = 99.8278 || The Generator loss = 1565.0264\n",
      "Starting the 3 level\n",
      "Epoch/Phase :0/3 : The Discriminator loss = 9932.7930 || The Generator loss = -1938.3787\n",
      "Epoch/Phase :1/3 : The Discriminator loss = -27578.2422 || The Generator loss = 292.0849\n",
      "Epoch/Phase :2/3 : The Discriminator loss = -1201.5156 || The Generator loss = 1595.8079\n",
      "Epoch/Phase :3/3 : The Discriminator loss = -166.9001 || The Generator loss = 4521.0391\n",
      "Epoch/Phase :4/3 : The Discriminator loss = -21216.9453 || The Generator loss = 2651.6116\n",
      "Epoch/Phase :5/3 : The Discriminator loss = -17631.5195 || The Generator loss = 6677.8838\n",
      "Epoch/Phase :6/3 : The Discriminator loss = -135914.5625 || The Generator loss = 9604.6826\n",
      "Epoch/Phase :7/3 : The Discriminator loss = -4131.1865 || The Generator loss = -6633.9082\n",
      "Epoch/Phase :8/3 : The Discriminator loss = -1079.2200 || The Generator loss = -6516.9893\n",
      "Epoch/Phase :9/3 : The Discriminator loss = -77087.3203 || The Generator loss = -1839.2258\n",
      "Epoch/Phase :10/3 : The Discriminator loss = -5920.8955 || The Generator loss = -47014.2188\n",
      "Epoch/Phase :11/3 : The Discriminator loss = -4370.9639 || The Generator loss = -82.7333\n",
      "Epoch/Phase :12/3 : The Discriminator loss = -10075.6084 || The Generator loss = -1426.4386\n",
      "Epoch/Phase :13/3 : The Discriminator loss = 7853.1968 || The Generator loss = 438.4316\n",
      "Epoch/Phase :14/3 : The Discriminator loss = 21208.8887 || The Generator loss = -2538.4536\n",
      "Epoch/Phase :15/3 : The Discriminator loss = 2821.5784 || The Generator loss = -15050.8906\n",
      "Epoch/Phase :16/3 : The Discriminator loss = 10800.3906 || The Generator loss = -302.7732\n",
      "Epoch/Phase :17/3 : The Discriminator loss = 4164.8408 || The Generator loss = 907.3456\n",
      "Epoch/Phase :18/3 : The Discriminator loss = 12479.7051 || The Generator loss = 1910.8523\n",
      "Epoch/Phase :19/3 : The Discriminator loss = -32118.7832 || The Generator loss = -6983.6807\n",
      "Epoch/Phase :20/3 : The Discriminator loss = 1526.9473 || The Generator loss = -124.2877\n"
     ]
    },
    {
     "name": "stdout",
     "output_type": "stream",
     "text": [
      "Epoch/Phase :21/3 : The Discriminator loss = -6753.5664 || The Generator loss = 32851.6328\n",
      "Epoch/Phase :22/3 : The Discriminator loss = -13059.4033 || The Generator loss = -1153.4585\n",
      "Epoch/Phase :23/3 : The Discriminator loss = 3874.8291 || The Generator loss = 448.7747\n",
      "Epoch/Phase :24/3 : The Discriminator loss = -4038.9871 || The Generator loss = 2848.9956\n",
      "Epoch/Phase :25/3 : The Discriminator loss = -8454.7803 || The Generator loss = 6677.7236\n",
      "Epoch/Phase :26/3 : The Discriminator loss = -31631.6504 || The Generator loss = 4470.4248\n",
      "Epoch/Phase :27/3 : The Discriminator loss = -2873.5654 || The Generator loss = -1887.8124\n",
      "Epoch/Phase :28/3 : The Discriminator loss = 28391.0566 || The Generator loss = -2231.5117\n",
      "Epoch/Phase :29/3 : The Discriminator loss = 15593.3828 || The Generator loss = 8351.9785\n",
      "Epoch/Phase :30/3 : The Discriminator loss = -7242.0962 || The Generator loss = -1923.0392\n",
      "Epoch/Phase :31/3 : The Discriminator loss = 543.5820 || The Generator loss = -9063.8809\n",
      "Epoch/Phase :32/3 : The Discriminator loss = 4261.5767 || The Generator loss = 182.6356\n",
      "Epoch/Phase :33/3 : The Discriminator loss = -1189.5972 || The Generator loss = 1268.8099\n",
      "Epoch/Phase :34/3 : The Discriminator loss = -1221.4453 || The Generator loss = -225.7623\n"
     ]
    }
   ],
   "source": [
    "lr = 0.0002\n",
    "beta1=0.3\n",
    "beta2=0.999  \n",
    "test = np.random.normal(0,1,size=(params['batch_size'],100)) #torch.randn(16,100)\n",
    "test = torch.from_numpy(test).float()\n",
    "losses =[]\n",
    "j =0 \n",
    "for i in range(1,4):\n",
    "    print('Starting the {} level'.format(i))\n",
    "    if i != 1:\n",
    "        D.grow(i,d_dim[j])\n",
    "        G.grow(i,g_dim[j])\n",
    "        j +=1\n",
    "    # Create optimizers for the discriminator D and generator G\n",
    "    d_optimizer = optim.Adam(D.parameters(),lr=lr,betas=[beta1, beta2])\n",
    "    g_optimizer = optim.Adam(G.parameters(),lr=lr*beta2,betas=[beta1, beta2])\n",
    "    if torch.cuda.is_available:\n",
    "        G.cuda()\n",
    "        D.cuda()\n",
    "    for e in range(epochs[i-1]):\n",
    "        alpha = (e+1)/epochs[i-1]\n",
    "        for x,_ in loader:\n",
    "            if torch.cuda.is_available:\n",
    "                x = x.cuda()\n",
    "            d_optimizer.zero_grad()\n",
    "            # real\n",
    "            x = D.downSample(x,down_times[i-1])\n",
    "            out_real = D.train_d(x,i,alpha)\n",
    "            d_real = -1*torch.mean(out_real) #real_loss(out_real,smooth=True)\n",
    "            # fake\n",
    "            z = np.random.normal(0,1,size=(params['batch_size'],100))\n",
    "            z= torch.from_numpy(z).float()\n",
    "            if torch.cuda.is_available:\n",
    "                z = z.cuda()\n",
    "            out_fake = G.train_g(z,i,alpha)\n",
    "            out_fake = D.train_d(out_fake,i,alpha)\n",
    "            d_fake = torch.mean(out_fake)\n",
    "            \n",
    "            d_loss = d_real+d_fake\n",
    "            d_loss.backward()\n",
    "            d_optimizer.step()\n",
    "            # generator\n",
    "            g_optimizer.zero_grad()\n",
    "            \n",
    "            z = np.random.normal(0,1,size=(params['batch_size'],100))\n",
    "            z= torch.from_numpy(z).float()\n",
    "            if torch.cuda.is_available:\n",
    "                z = z.cuda()\n",
    "            out_g = G.train_g(z,i,alpha)\n",
    "            out_g = D.train_d(out_g,i,alpha)\n",
    "            g_loss = -1*torch.mean(out_g)\n",
    "            \n",
    "            g_loss.backward()\n",
    "            g_optimizer.step()\n",
    "        else:\n",
    "            if e %1 == 0:\n",
    "                losses.append((d_loss.item(),g_loss.item()))\n",
    "                print('Epoch/Phase :{}/{} : The Discriminator loss = {:6.4f} || The Generator loss = {:6.4f}'.format(e,i,d_loss.item(),g_loss.item()))\n",
    "#     else:\n",
    "#         G.eval()\n",
    "#         if torch.cuda.is_available:\n",
    "#             test = test.cuda()\n",
    "#         img = G.train_g(test,i,1)\n",
    "#         G.train()\n",
    "#         img = img.cpu().detach()\n",
    "#         plt.imshow(np.transpose(img[0].numpy(), (1, 2, 0)))"
   ]
  },
  {
   "cell_type": "code",
   "execution_count": 19,
   "metadata": {},
   "outputs": [
    {
     "data": {
      "text/plain": [
       "<matplotlib.image.AxesImage at 0x7fe4502e2cc0>"
      ]
     },
     "execution_count": 19,
     "metadata": {},
     "output_type": "execute_result"
    },
    {
     "data": {
      "image/png": "[encoded data removed]",
      "text/plain": [
       "<Figure size 216x216 with 1 Axes>"
      ]
     },
     "metadata": {
      "needs_background": "light"
     },
     "output_type": "display_data"
    }
   ],
   "source": [
    "G.eval()\n",
    "if torch.cuda.is_available:\n",
    "        test = test.cuda()\n",
    "img = G.train_g(test,3,1)\n",
    "G.train()\n",
    "imge = img.cpu().detach().numpy()\n",
    "img = np.squeeze(imge[2])\n",
    "\n",
    "fig = plt.figure(figsize = (3,3)) \n",
    "ax = fig.add_subplot(111)\n",
    "ax.imshow(img, cmap='gray')\n",
    "# plt.imshow(np.transpose(img[0].numpy(), (1, 2, 0)))"
   ]
  },
  {
   "cell_type": "code",
   "execution_count": 20,
   "metadata": {},
   "outputs": [
    {
     "data": {
      "text/plain": [
       "<matplotlib.image.AxesImage at 0x7fe450241470>"
      ]
     },
     "execution_count": 20,
     "metadata": {},
     "output_type": "execute_result"
    },
    {
     "data": {
      "image/png": "[encoded data removed]",
      "text/plain": [
       "<Figure size 216x216 with 1 Axes>"
      ]
     },
     "metadata": {
      "needs_background": "light"
     },
     "output_type": "display_data"
    }
   ],
   "source": [
    "img = np.squeeze(imge[23])\n",
    "fig = plt.figure(figsize = (3,3)) \n",
    "ax = fig.add_subplot(111)\n",
    "ax.imshow(img, cmap='gray')"
   ]
  },
  {
   "cell_type": "code",
   "execution_count": null,
   "metadata": {},
   "outputs": [],
   "source": []
  },
  {
   "cell_type": "code",
   "execution_count": null,
   "metadata": {},
   "outputs": [],
   "source": []
  }
 ],
 "metadata": {
  "kernelspec": {
   "display_name": "Python 3",
   "language": "python",
   "name": "python3"
  },
  "language_info": {
   "codemirror_mode": {
    "name": "ipython",
    "version": 3
   },
   "file_extension": ".py",
   "mimetype": "text/x-python",
   "name": "python",
   "nbconvert_exporter": "python",
   "pygments_lexer": "ipython3",
   "version": "3.6.10"
  }
 },
 "nbformat": 4,
 "nbformat_minor": 4
}
